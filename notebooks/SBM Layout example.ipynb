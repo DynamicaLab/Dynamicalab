{
 "cells": [
  {
   "cell_type": "code",
   "execution_count": 1,
   "metadata": {},
   "outputs": [],
   "source": [
    "import numpy as np\n",
    "import matplotlib.pyplot as plt\n",
    "import networkx as nx\n",
    "import dynamicalab.drawing as draw"
   ]
  },
  {
   "cell_type": "code",
   "execution_count": 2,
   "metadata": {},
   "outputs": [],
   "source": [
    "sizes = np.array([200,200,300])\n",
    "probs = [[0.15, 0.01, 0.02],\n",
    "        [0.01, 0.2, 0.01],\n",
    "        [0.02, 0.01, 0.1]]\n",
    "G = nx.stochastic_block_model(sizes=sizes, p=probs)"
   ]
  },
  {
   "cell_type": "code",
   "execution_count": 3,
   "metadata": {},
   "outputs": [],
   "source": [
    "sizes = np.concatenate([[0],sizes])\n",
    "node_subsets = [range(sizes.cumsum()[i], sizes.cumsum()[i+1]) for i in range(len(sizes)-1)]"
   ]
  },
  {
   "cell_type": "code",
   "execution_count": null,
   "metadata": {},
   "outputs": [
    {
     "data": {
      "text/plain": [
       "True"
      ]
     },
     "execution_count": 4,
     "metadata": {},
     "output_type": "execute_result"
    }
   ],
   "source": [
    "centroids = [(0,0), (2,5), (5.8,2)]\n",
    "radius_scale = [0.02,0.03, 0.01]\n",
    "\n",
    "# Get layout\n",
    "pos, edge_bunchs = draw.clustered_layout(G, node_subsets, centroids, radius_scale)\n",
    "\n",
    "# Draw\n",
    "plt.figure(figsize=(10,11))\n",
    "\n",
    "node_colors = ['#b2182b', '#2166ac', \"#4daf4a\"]\n",
    "for i, nodes in enumerate(node_subsets):\n",
    "    nx.draw_networkx_nodes(G, pos=pos, node_size=30, nodelist=nodes, node_color=node_colors[i])\n",
    "\n",
    "colors = ['#e0e0e0']*6 + [ '#b2df8a', '#67a9cf', '#ef8a62', ]\n",
    "for i, edges in enumerate(edge_bunchs):\n",
    "    nx.draw_networkx_edges(G, pos=pos, edgelist=edges, edge_color=colors[i], alpha=0.2)\n",
    "\n",
    "# Set lim for nice aspect\n",
    "xlim , ylim = plt.xlim(), plt.ylim()\n",
    "lim = [min(xlim[0], ylim[0]), max(xlim[1], ylim[1])]\n",
    "plt.xlim(lim)\n",
    "plt.ylim(lim)\n",
    "plt.axis(\"off\")\n",
    "True"
   ]
  },
  {
   "cell_type": "code",
   "execution_count": null,
   "metadata": {},
   "outputs": [],
   "source": []
  },
  {
   "cell_type": "code",
   "execution_count": null,
   "metadata": {},
   "outputs": [],
   "source": []
  }
 ],
 "metadata": {
  "kernelspec": {
   "display_name": "Python 3",
   "language": "python",
   "name": "python3"
  },
  "language_info": {
   "codemirror_mode": {
    "name": "ipython",
    "version": 3
   },
   "file_extension": ".py",
   "mimetype": "text/x-python",
   "name": "python",
   "nbconvert_exporter": "python",
   "pygments_lexer": "ipython3",
   "version": "3.6.8"
  }
 },
 "nbformat": 4,
 "nbformat_minor": 2
}
